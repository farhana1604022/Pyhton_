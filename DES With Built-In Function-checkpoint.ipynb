{
 "cells": [
  {
   "cell_type": "code",
   "execution_count": 58,
   "metadata": {},
   "outputs": [],
   "source": [
    "from Crypto.Cipher import DES\n",
    "from Crypto.Util.Padding import pad\n",
    "from Crypto.Random import get_random_bytes"
   ]
  },
  {
   "cell_type": "code",
   "execution_count": 59,
   "metadata": {},
   "outputs": [
    {
     "name": "stdout",
     "output_type": "stream",
     "text": [
      "b'chittagong university of engineering and technology'\n",
      "<class 'bytes'>\n"
     ]
    }
   ],
   "source": [
    "plain_text=b'chittagong university of engineering and technology'\n",
    "print(plain_text)\n",
    "print(type(plain_text))"
   ]
  },
  {
   "cell_type": "code",
   "execution_count": 60,
   "metadata": {},
   "outputs": [],
   "source": [
    "key=get_random_bytes(8) #64 bit key to encrypt plain_text.\n",
    "iv=b'qwertyui' #64 bit Initialization Vector.\n",
    "mode=DES.MODE_CBC   #Cipher block chaining mode.\n",
    "\n",
    "enc_cipher= DES.new(key,mode,iv=iv) #Creating two Cipher Objects for Encryption & Decryption.Because if only one cipher object\n",
    "dec_cipher= DES.new(key,mode,iv=iv) #is used both in Encryption & Decryption then it will show error message \n",
    "                                    #\"TypeError: decrypt() cannot be called after encrypt()\"\n"
   ]
  },
  {
   "cell_type": "code",
   "execution_count": 61,
   "metadata": {},
   "outputs": [
    {
     "name": "stdout",
     "output_type": "stream",
     "text": [
      "b'@:yt\\xfe@\\xcc\\xf9'\n"
     ]
    }
   ],
   "source": [
    "print(key)"
   ]
  },
  {
   "cell_type": "code",
   "execution_count": 62,
   "metadata": {},
   "outputs": [],
   "source": [
    "encrypted_text=b''\n",
    "i=0\n",
    "while i<len(plain_text):\n",
    "    block_data=plain_text[i:i+8]\n",
    "    if len(block_data)%8!=0:          #if block_data is less than 8 bytes \n",
    "        block_data=pad(block_data,8)  #then we have to add some extra bit to make it 64 bit text.\n",
    "    encrypted_text=encrypted_text+enc_cipher.encrypt(block_data)\n",
    "    i=i+8                               "
   ]
  },
  {
   "cell_type": "code",
   "execution_count": 63,
   "metadata": {},
   "outputs": [
    {
     "name": "stdout",
     "output_type": "stream",
     "text": [
      "b'%\\x92w5\\xbfg\\xaaS\\x07\\x11\\xc1_k\\xc7\\xf2w\\xdcO\\x9b\\x9c?Y\\x1c\\x86h\\x97\\xfb.\\xf1\\xe9\\x85Ue\\xab\\xd1U)\\x8a\\xea]\\xdfX\\xac\\xdb\\xf4\\x12\"\\xd9\\x81\\x0f\\xc18\\xfdE\\xb2\\x9f'\n"
     ]
    }
   ],
   "source": [
    "print(encrypted_text)"
   ]
  },
  {
   "cell_type": "code",
   "execution_count": 64,
   "metadata": {},
   "outputs": [],
   "source": [
    "decrypted_text=b''\n",
    "i=0\n",
    "while i<len(encrypted_text):\n",
    "    block_data=encrypted_text[i:i+8]\n",
    "    decrypted_text=decrypted_text+dec_cipher.decrypt(block_data)\n",
    "    i=i+8"
   ]
  },
  {
   "cell_type": "code",
   "execution_count": 65,
   "metadata": {},
   "outputs": [
    {
     "name": "stdout",
     "output_type": "stream",
     "text": [
      "b'chittagong university of engineering and technology\\x05\\x05\\x05\\x05\\x05'\n"
     ]
    }
   ],
   "source": [
    "print(decrypted_text)"
   ]
  },
  {
   "cell_type": "code",
   "execution_count": null,
   "metadata": {},
   "outputs": [],
   "source": []
  }
 ],
 "metadata": {
  "kernelspec": {
   "display_name": "Python 3",
   "language": "python",
   "name": "python3"
  },
  "language_info": {
   "codemirror_mode": {
    "name": "ipython",
    "version": 3
   },
   "file_extension": ".py",
   "mimetype": "text/x-python",
   "name": "python",
   "nbconvert_exporter": "python",
   "pygments_lexer": "ipython3",
   "version": "3.7.4"
  }
 },
 "nbformat": 4,
 "nbformat_minor": 4
}
